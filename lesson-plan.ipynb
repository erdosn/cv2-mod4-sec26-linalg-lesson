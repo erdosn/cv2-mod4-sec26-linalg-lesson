{
 "cells": [
  {
   "cell_type": "markdown",
   "metadata": {},
   "source": [
    "### Questions\n",
    "- asked to plot the residuals without the statsmodels (only using numpy)"
   ]
  },
  {
   "cell_type": "markdown",
   "metadata": {},
   "source": [
    "### Keyterms\n",
    "- **Rank (row and column)**: number of non zero rows of matrix (or it's transpose), after matrix has been converted to row echelon form\n",
    "- **Linear Operations**:vectors $v_1, v_2$ can have linear operations applied to them in the form $c_1v_1 + c_2v_2=v_3$. \n",
    "    - In other words, multiplying vectors by a constant $c$ or adding vectors together are linear operations. \n",
    "    - Linear operations preserve the following in a matrix\n",
    "        - Rank\n",
    "        - Inverse (if the inverse exists)\n",
    "        - They send the zero vector $v_0$ to $v_0$\n",
    "        - Eigen Decomposition (if Matrix is square)\n",
    "- **Linear Dependence**: A Matrix is linearly dependent iff $\\exists v_i \\in M$ such that $v_i = \\sum \\alpha_j v_j$, for one or more $v_j \\in M$ and $\\alpha_j \\neq 0$\n",
    "    - In other words, one of the vectors $v_i$ in M can be written as a linear combination of some of other vector(s) in M.\n",
    "- **Linear Independence**: A Matrix is linear independent iff it isn't linear dependent. \n",
    "- **Ridge Regression** - We'll discuss this later"
   ]
  },
  {
   "cell_type": "markdown",
   "metadata": {},
   "source": [
    "### Objectives\n",
    "YWBAT\n",
    "- describe the importance of linear independence\n",
    "- explain how linear independence effects OLS"
   ]
  },
  {
   "cell_type": "markdown",
   "metadata": {},
   "source": [
    "### Outline"
   ]
  },
  {
   "cell_type": "code",
   "execution_count": 3,
   "metadata": {},
   "outputs": [],
   "source": [
    "import pandas as pd\n",
    "import numpy as np\n",
    "\n",
    "import matplotlib.pyplot as plt"
   ]
  },
  {
   "cell_type": "markdown",
   "metadata": {},
   "source": [
    "### What does it mean for a space to be linear independent\n",
    "\n",
    "\n",
    "Why is this important? (From stats-exchange)\n",
    "```\n",
    "Recall from linear algebra that linearly dependent vectors are a set of vectors which can be expressed as a linear combination of each other. When performing regression, this creates problems because the matrix 𝑋𝑇𝑋 is singular, so there is not a uniquely defined solution to estimating your regression coefficients. (The matrix 𝑋𝑇𝑋 is important because of its role in estimating OLS regression coefficients 𝛽̂ : 𝛽̂ =(𝑋𝑇𝑋)−1𝑋𝑇𝑦.)\n",
    "\n",
    "Linear dependence is a technical phenomenon distinct from the ordinary usage of \"dependence\" as you express it.\n",
    "\n",
    "So with an understanding of linear dependence in hand, we can begin to examine likely sources of this problem.\n",
    "\n",
    "More features than rows It's unclear how much data you have, but it's possible that by adding polynomial terms, you're inadvertently creating a dimensionality problem: an ordinary regression with more columns than observations will fail! This is because the system of equations that you've defined has infinitely many solutions, i.e. there is not a pivot point in every column. This amounts to the same problem as having a singular 𝑋𝑇𝑋.\n",
    "\n",
    "Duplicate data Even if you have more rows than features, it's important that each of those rows provides unique information. Duplicate rows are unhelpful in this context. By definition, the polynomial regression matrix 𝑋 (consisting of [1,𝑥,𝑥2,...𝑥𝑚] as columns) is a Vandermonde matrix, so it will have a unique OLS solution provided that there are 𝑚+1 unique entries in your original 𝑥 vector. So despite having 100 observations, perhaps you have a smaller number of unique 𝑥 entries?\n",
    "\n",
    "Ill-conditioned matrix Even if neither (1) nor (2) is true, it's possible that the matrix is numerically singular, i.e. singular due to machine precision reasons. There are a few methods to dealing with this. One is to enforce 0 mean unit variance columns (just subtract the column mean from each column and divide by the column's standard deviation). This is an unusual problem with modern software, but it's possible that exponents of small/large numbers are the culprit here.\n",
    "\n",
    "A general strategy to address an ill-conditioned matrix 𝑋 is called ridge regression, which works by finding an optimal amount of regularization to apply to your problem. Ridge regression is discussed all over this website. One place to start would be with this excellent answer.\n",
    "\n",
    "AndyW points out that fitting very high-order polynomials is often ill-advised since it increases the risk of overfitting. In predictive settings, it's often advised that one use cross validation to assess the fitness of a given model. Depending on your application, you might care about different out-of-sample tests, but a typical metric for this type of problem is mean squared error.\n",
    "```"
   ]
  },
  {
   "cell_type": "markdown",
   "metadata": {},
   "source": [
    "### About Rank\n",
    "Rank is defined as (from stattrek)\n",
    "\n",
    ">The maximum number of linearly independent vectors in a matrix is equal to the number of non-zero rows in its row echelon matrix. Therefore, to find the rank of a matrix, we simply transform the matrix to its row echelon form and count the number of non-zero rows.\n",
    "\n",
    "In other words Rank is defined as the number of non-zero rows after a matrix is converted to row echelon form"
   ]
  },
  {
   "cell_type": "markdown",
   "metadata": {},
   "source": [
    "**OLS Equation**\n",
    "$$ y = X\\beta + \\epsilon$$\n",
    "\n",
    "Left multiplying both sides by $X'$ gives \n",
    "\n",
    "$$X'y = X'X\\beta + X'\\epsilon$$\n",
    "\n",
    "Solving for $\\beta$ and assuming $\\epsilon ~ 0$ \n",
    "\n",
    "$$ X'y = X'X\\beta$$\n",
    "Left multiply both sides by the inverse of $(X'X)$ to isolate $\\beta$\n",
    "$$ (X'X)^{-1} X'y = (X'X)^{-1}(X'X)\\beta$$\n",
    "$$ \\beta = (X'X)^{-1}X'y $$\n",
    "\n",
    "So this is what we're estimating in OLS to get our $\\beta$s"
   ]
  },
  {
   "cell_type": "markdown",
   "metadata": {},
   "source": [
    "### Let's look at a dataset X if it's linearly indepedent vs Linearly dependent"
   ]
  },
  {
   "cell_type": "markdown",
   "metadata": {},
   "source": [
    "y = XB"
   ]
  },
  {
   "cell_type": "code",
   "execution_count": 28,
   "metadata": {},
   "outputs": [
    {
     "data": {
      "text/plain": [
       "array([[1],\n",
       "       [2],\n",
       "       [5]])"
      ]
     },
     "execution_count": 28,
     "metadata": {},
     "output_type": "execute_result"
    }
   ],
   "source": [
    "### let's set y\n",
    "y = np.array([[1], [2], [5]])\n",
    "y"
   ]
  },
  {
   "cell_type": "code",
   "execution_count": 29,
   "metadata": {},
   "outputs": [
    {
     "name": "stdout",
     "output_type": "stream",
     "text": [
      "[[ 2  1  4]\n",
      " [ 5  1 -2]\n",
      " [ 3  1  0]]\n",
      "Rank = 3\n"
     ]
    }
   ],
   "source": [
    "# Linear Independent\n",
    "X = np.array([[2, 1, 4], [5, 1, -2], [3, 1, 0]])\n",
    "print(X)\n",
    "print(\"Rank = {}\".format(np.linalg.matrix_rank(X)))"
   ]
  },
  {
   "cell_type": "code",
   "execution_count": 31,
   "metadata": {},
   "outputs": [
    {
     "name": "stdout",
     "output_type": "stream",
     "text": [
      "X_comp = \n",
      "[[38 10 -2]\n",
      " [10  3  2]\n",
      " [-2  2 20]]\n",
      "X_comp inverse = \n",
      "[[ 1.55555556 -5.66666667  0.72222222]\n",
      " [-5.66666667 21.         -2.66666667]\n",
      " [ 0.72222222 -2.66666667  0.38888889]]\n"
     ]
    }
   ],
   "source": [
    "# Checking X'X\n",
    "X_comp = np.dot(X.T, X) # calculating X'X\n",
    "X_comp_inv = np.linalg.inv(X_comp) # Calculating (X'X)^-1\n",
    "print(\"X_comp = \\n{}\".format(X_comp)) \n",
    "print(\"X_comp inverse = \\n{}\".format(X_comp_inv)) # Notice the inverse, nothing significant -> good"
   ]
  },
  {
   "cell_type": "code",
   "execution_count": 32,
   "metadata": {},
   "outputs": [
    {
     "data": {
      "text/plain": [
       "array([[-3.33333333],\n",
       "       [15.        ],\n",
       "       [-1.83333333]])"
      ]
     },
     "execution_count": 32,
     "metadata": {},
     "output_type": "execute_result"
    }
   ],
   "source": [
    "beta = np.dot(X_comp_inv, X.T).dot(y) # Solve for beta B = (X'X)^-1 * X' * y\n",
    "beta"
   ]
  },
  {
   "cell_type": "code",
   "execution_count": 33,
   "metadata": {},
   "outputs": [
    {
     "name": "stdout",
     "output_type": "stream",
     "text": [
      "[[1.]\n",
      " [2.]\n",
      " [5.]] [[1]\n",
      " [2]\n",
      " [5]]\n",
      "[[ True]\n",
      " [ True]\n",
      " [ True]]\n"
     ]
    }
   ],
   "source": [
    "# Check solution\n",
    "# Check if XB = y\n",
    "print(X.dot(beta), y)\n",
    "print(np.round(X.dot(beta), 1)==y)"
   ]
  },
  {
   "cell_type": "markdown",
   "metadata": {},
   "source": [
    "------------\n",
    "### yes this works!!!! Now let's observe if X is Linearly Dependent\n",
    "-----------------"
   ]
  },
  {
   "cell_type": "code",
   "execution_count": 34,
   "metadata": {},
   "outputs": [
    {
     "name": "stdout",
     "output_type": "stream",
     "text": [
      "[[2 2 4]\n",
      " [4 4 8]\n",
      " [3 1 0]]\n",
      "Rank = 2\n"
     ]
    }
   ],
   "source": [
    "# Linear Dependent\n",
    "X = np.array([[2, 2, 4], [4, 4, 8], [3, 1, 0]])\n",
    "print(X)\n",
    "print(\"Rank = {}\".format(np.linalg.matrix_rank(X)))"
   ]
  },
  {
   "cell_type": "code",
   "execution_count": 38,
   "metadata": {},
   "outputs": [
    {
     "name": "stdout",
     "output_type": "stream",
     "text": [
      "X_comp = \n",
      "[[29 23 40]\n",
      " [23 21 40]\n",
      " [40 40 80]]\n",
      "X_comp inverse = \n",
      "[[-1.95808679e+14  5.87426038e+14 -1.95808679e+14]\n",
      " [ 5.87426038e+14 -1.76227812e+15  5.87426038e+14]\n",
      " [-1.95808679e+14  5.87426038e+14 -1.95808679e+14]]\n"
     ]
    }
   ],
   "source": [
    "# Checking X'X\n",
    "X_comp = np.dot(X.T, X) # calculating X'X\n",
    "X_comp_inv = np.linalg.inv(X_comp) # Calculating (X'X)^-1\n",
    "print(\"X_comp = \\n{}\".format(X_comp)) \n",
    "print(\"X_comp inverse = \\n{}\".format(X_comp_inv)) # Notice the inverse, Inverse is undefined...but to a computer, it's basically infinite\n",
    "\n"
   ]
  },
  {
   "cell_type": "markdown",
   "metadata": {},
   "source": [
    "### What do we notice about the inverse?"
   ]
  },
  {
   "cell_type": "code",
   "execution_count": 37,
   "metadata": {},
   "outputs": [
    {
     "data": {
      "text/plain": [
       "array([[-2.5],\n",
       "       [ 5. ],\n",
       "       [-2.5]])"
      ]
     },
     "execution_count": 37,
     "metadata": {},
     "output_type": "execute_result"
    }
   ],
   "source": [
    "beta = np.dot(X_comp_inv, X.T).dot(y)\n",
    "beta"
   ]
  },
  {
   "cell_type": "code",
   "execution_count": 40,
   "metadata": {},
   "outputs": [
    {
     "name": "stdout",
     "output_type": "stream",
     "text": [
      "[[ -5. ]\n",
      " [-10. ]\n",
      " [ -2.5]] \n",
      " [[1]\n",
      " [2]\n",
      " [5]]\n",
      "[[False]\n",
      " [False]\n",
      " [False]]\n"
     ]
    }
   ],
   "source": [
    "# Check solution\n",
    "print(X.dot(beta), '\\n', y)\n",
    "print(np.round(X.dot(beta), 1)==y)"
   ]
  },
  {
   "cell_type": "markdown",
   "metadata": {},
   "source": [
    "### So why is LI so important? \n",
    "- Because without you cannot properly predict anything\n",
    "- Provides significance to computation\n",
    "- if M is LI -> then there is a solution\n",
    "--------------"
   ]
  },
  {
   "cell_type": "markdown",
   "metadata": {},
   "source": [
    "### Let's load in yesterday's dataset (we'll come back to this later)"
   ]
  },
  {
   "cell_type": "code",
   "execution_count": 41,
   "metadata": {},
   "outputs": [
    {
     "data": {
      "text/html": [
       "<div>\n",
       "<style scoped>\n",
       "    .dataframe tbody tr th:only-of-type {\n",
       "        vertical-align: middle;\n",
       "    }\n",
       "\n",
       "    .dataframe tbody tr th {\n",
       "        vertical-align: top;\n",
       "    }\n",
       "\n",
       "    .dataframe thead th {\n",
       "        text-align: right;\n",
       "    }\n",
       "</style>\n",
       "<table border=\"1\" class=\"dataframe\">\n",
       "  <thead>\n",
       "    <tr style=\"text-align: right;\">\n",
       "      <th></th>\n",
       "      <th>age</th>\n",
       "      <th>sex</th>\n",
       "      <th>cp</th>\n",
       "      <th>trestbps</th>\n",
       "      <th>fbs</th>\n",
       "      <th>restecg</th>\n",
       "      <th>thalach</th>\n",
       "      <th>exang</th>\n",
       "      <th>oldpeak</th>\n",
       "      <th>slope</th>\n",
       "      <th>ca</th>\n",
       "      <th>thal</th>\n",
       "      <th>num</th>\n",
       "      <th>chol</th>\n",
       "    </tr>\n",
       "  </thead>\n",
       "  <tbody>\n",
       "    <tr>\n",
       "      <th>0</th>\n",
       "      <td>46.950938</td>\n",
       "      <td>1</td>\n",
       "      <td>1</td>\n",
       "      <td>165.981331</td>\n",
       "      <td>0</td>\n",
       "      <td>2</td>\n",
       "      <td>152.691434</td>\n",
       "      <td>0</td>\n",
       "      <td>1.774223</td>\n",
       "      <td>2</td>\n",
       "      <td>0</td>\n",
       "      <td>7</td>\n",
       "      <td>3</td>\n",
       "      <td>265.569780</td>\n",
       "    </tr>\n",
       "    <tr>\n",
       "      <th>1</th>\n",
       "      <td>47.359284</td>\n",
       "      <td>1</td>\n",
       "      <td>4</td>\n",
       "      <td>134.748286</td>\n",
       "      <td>0</td>\n",
       "      <td>2</td>\n",
       "      <td>132.079047</td>\n",
       "      <td>1</td>\n",
       "      <td>0.407640</td>\n",
       "      <td>2</td>\n",
       "      <td>0</td>\n",
       "      <td>7</td>\n",
       "      <td>0</td>\n",
       "      <td>269.368061</td>\n",
       "    </tr>\n",
       "    <tr>\n",
       "      <th>2</th>\n",
       "      <td>58.455787</td>\n",
       "      <td>1</td>\n",
       "      <td>4</td>\n",
       "      <td>129.456617</td>\n",
       "      <td>0</td>\n",
       "      <td>0</td>\n",
       "      <td>164.523754</td>\n",
       "      <td>1</td>\n",
       "      <td>5.284900</td>\n",
       "      <td>2</td>\n",
       "      <td>0</td>\n",
       "      <td>7</td>\n",
       "      <td>4</td>\n",
       "      <td>244.336917</td>\n",
       "    </tr>\n",
       "    <tr>\n",
       "      <th>3</th>\n",
       "      <td>56.070298</td>\n",
       "      <td>1</td>\n",
       "      <td>4</td>\n",
       "      <td>124.831749</td>\n",
       "      <td>0</td>\n",
       "      <td>2</td>\n",
       "      <td>181.453944</td>\n",
       "      <td>0</td>\n",
       "      <td>1.096476</td>\n",
       "      <td>1</td>\n",
       "      <td>1</td>\n",
       "      <td>7</td>\n",
       "      <td>2</td>\n",
       "      <td>237.985356</td>\n",
       "    </tr>\n",
       "    <tr>\n",
       "      <th>4</th>\n",
       "      <td>44.121116</td>\n",
       "      <td>1</td>\n",
       "      <td>4</td>\n",
       "      <td>109.887955</td>\n",
       "      <td>0</td>\n",
       "      <td>2</td>\n",
       "      <td>110.055090</td>\n",
       "      <td>1</td>\n",
       "      <td>0.437412</td>\n",
       "      <td>2</td>\n",
       "      <td>0</td>\n",
       "      <td>3</td>\n",
       "      <td>1</td>\n",
       "      <td>245.907334</td>\n",
       "    </tr>\n",
       "  </tbody>\n",
       "</table>\n",
       "</div>"
      ],
      "text/plain": [
       "         age  sex  cp    trestbps  fbs  restecg     thalach  exang   oldpeak  \\\n",
       "0  46.950938    1   1  165.981331    0        2  152.691434      0  1.774223   \n",
       "1  47.359284    1   4  134.748286    0        2  132.079047      1  0.407640   \n",
       "2  58.455787    1   4  129.456617    0        0  164.523754      1  5.284900   \n",
       "3  56.070298    1   4  124.831749    0        2  181.453944      0  1.096476   \n",
       "4  44.121116    1   4  109.887955    0        2  110.055090      1  0.437412   \n",
       "\n",
       "   slope  ca  thal  num        chol  \n",
       "0      2   0     7    3  265.569780  \n",
       "1      2   0     7    0  269.368061  \n",
       "2      2   0     7    4  244.336917  \n",
       "3      1   1     7    2  237.985356  \n",
       "4      2   0     3    1  245.907334  "
      ]
     },
     "execution_count": 41,
     "metadata": {},
     "output_type": "execute_result"
    }
   ],
   "source": [
    "df = pd.read_csv(\"BNG_cholesterol.csv\")\n",
    "df.head()"
   ]
  },
  {
   "cell_type": "markdown",
   "metadata": {},
   "source": [
    "### Let's isolate our X matrix"
   ]
  },
  {
   "cell_type": "code",
   "execution_count": 44,
   "metadata": {},
   "outputs": [
    {
     "name": "stdout",
     "output_type": "stream",
     "text": [
      "(1000000, 13)\n"
     ]
    }
   ],
   "source": [
    "X = df.drop(\"chol\", axis=1)\n",
    "y = df.chol\n",
    "X.head()\n",
    "print(X.shape)"
   ]
  },
  {
   "cell_type": "code",
   "execution_count": 43,
   "metadata": {},
   "outputs": [
    {
     "name": "stdout",
     "output_type": "stream",
     "text": [
      "Rank = 13\n"
     ]
    }
   ],
   "source": [
    "print(\"Rank = {}\".format(np.linalg.matrix_rank(X)))"
   ]
  },
  {
   "cell_type": "code",
   "execution_count": 45,
   "metadata": {},
   "outputs": [
    {
     "name": "stdout",
     "output_type": "stream",
     "text": [
      "X_comp inverse = \n",
      "[[ 9.56178063e-09 -6.28882488e-09 -1.52625183e-08 -1.81755567e-09\n",
      "  -4.76112150e-09 -6.44991052e-09 -1.07354753e-09  5.99355094e-09\n",
      "  -2.08114391e-09 -1.78391254e-08 -4.70410794e-09 -5.07325675e-09\n",
      "   4.82531224e-10]\n",
      " [-6.28882488e-09  5.10550723e-06 -1.83865082e-08 -4.79225515e-09\n",
      "   1.15555532e-08  1.64645935e-08 -3.30811221e-09  4.65045992e-07\n",
      "   3.72427084e-09 -9.17701491e-08  3.96814470e-08 -4.22227649e-07\n",
      "   1.51977958e-08]\n",
      " [-1.52625183e-08 -1.83865082e-08  1.11295323e-06 -9.38758404e-09\n",
      "  -2.85950015e-08 -1.49881623e-08 -5.37608828e-09 -7.63954760e-07\n",
      "  -2.05770207e-09 -8.36205101e-08 -2.04773718e-08 -3.00236886e-08\n",
      "   1.71367408e-09]\n",
      " [-1.81755567e-09 -4.79225515e-09 -9.38758404e-09  2.13255067e-09\n",
      "  -2.75650130e-09 -2.55313219e-09 -7.46844621e-10  4.97486689e-09\n",
      "  -4.19950489e-10 -1.04507716e-08 -2.33093703e-09 -2.94137363e-09\n",
      "   3.91195917e-10]\n",
      " [-4.76112150e-09  1.15555532e-08 -2.85950015e-08 -2.75650130e-09\n",
      "   7.70383884e-06 -2.70594632e-09 -2.57866709e-09  2.78481165e-08\n",
      "  -1.47169603e-08 -2.66399797e-08 -1.16658698e-08 -5.03927996e-09\n",
      "   2.98455131e-09]\n",
      " [-6.44991052e-09  1.64645935e-08 -1.49881623e-08 -2.55313219e-09\n",
      "  -2.70594632e-09  1.01893326e-06 -1.28934381e-09 -3.06655755e-08\n",
      "   1.63294973e-09 -2.09172624e-08 -2.43688702e-08 -6.84289790e-09\n",
      "  -1.10770441e-09]\n",
      " [-1.07354753e-09 -3.30811221e-09 -5.37608828e-09 -7.46844621e-10\n",
      "  -2.57866709e-09 -1.28934381e-09  1.32484023e-09  4.80205936e-09\n",
      "   1.57140906e-09 -6.91652490e-09 -1.14928669e-09 -2.08399629e-09\n",
      "   3.16302918e-10]\n",
      " [ 5.99355094e-09  4.65045992e-07 -7.63954760e-07  4.97486689e-09\n",
      "   2.78481165e-08 -3.06655755e-08  4.80205936e-09  5.31878617e-06\n",
      "  -7.27558085e-10  3.85799164e-08 -5.47221330e-11 -3.07267914e-07\n",
      "  -1.38352386e-08]\n",
      " [-2.08114391e-09  3.72427084e-09 -2.05770207e-09 -4.19950489e-10\n",
      "  -1.47169603e-08  1.63294973e-09  1.57140906e-09 -7.27558085e-10\n",
      "   8.89075263e-07 -6.71954648e-07 -8.76003268e-10 -1.46377746e-10\n",
      "   7.13590315e-10]\n",
      " [-1.78391254e-08 -9.17701491e-08 -8.36205101e-08 -1.04507716e-08\n",
      "  -2.66399797e-08 -2.09172624e-08 -6.91652490e-09  3.85799164e-08\n",
      "  -6.71954648e-07  2.75318806e-06 -6.94322758e-09 -2.59936890e-08\n",
      "   4.86015287e-09]\n",
      " [-4.70410794e-09  3.96814470e-08 -2.04773718e-08 -2.33093703e-09\n",
      "  -1.16658698e-08 -2.43688702e-08 -1.14928669e-09 -5.47221330e-11\n",
      "  -8.76003268e-10 -6.94322758e-09  1.29965109e-06  6.68879641e-08\n",
      "  -3.41700343e-07]\n",
      " [-5.07325675e-09 -4.22227649e-07 -3.00236886e-08 -2.94137363e-09\n",
      "  -5.03927996e-09 -6.84289790e-09 -2.08399629e-09 -3.07267914e-07\n",
      "  -1.46377746e-10 -2.59936890e-08  6.68879641e-08  3.44053858e-07\n",
      "  -1.49254292e-07]\n",
      " [ 4.82531224e-10  1.51977958e-08  1.71367408e-09  3.91195917e-10\n",
      "   2.98455131e-09 -1.10770441e-09  3.16302918e-10 -1.38352386e-08\n",
      "   7.13590315e-10  4.86015287e-09 -3.41700343e-07 -1.49254292e-07\n",
      "   6.94156229e-07]]\n"
     ]
    }
   ],
   "source": [
    "X_comp = np.dot(X.T, X)\n",
    "X_comp_inv = np.linalg.inv(X_comp)\n",
    "# print(\"X_comp = \\n{}\".format(X_comp))\n",
    "print(\"X_comp inverse = \\n{}\".format(X_comp_inv))"
   ]
  },
  {
   "cell_type": "code",
   "execution_count": 46,
   "metadata": {},
   "outputs": [
    {
     "data": {
      "text/plain": [
       "array([  1.4258143 , -13.29324399,   5.87958565,   0.66786048,\n",
       "         3.40924512,   7.37492299,   0.29564045,   2.82425866,\n",
       "         0.25272236,   2.35849688,   7.04321606,   1.66544567,\n",
       "         0.60759738])"
      ]
     },
     "execution_count": 46,
     "metadata": {},
     "output_type": "execute_result"
    }
   ],
   "source": [
    "beta = np.dot(X_comp_inv, X.T).dot(y)\n",
    "beta"
   ]
  },
  {
   "cell_type": "code",
   "execution_count": 16,
   "metadata": {},
   "outputs": [],
   "source": [
    "residuals = X.dot(beta) - y"
   ]
  },
  {
   "cell_type": "code",
   "execution_count": 47,
   "metadata": {},
   "outputs": [],
   "source": [
    "x = np.linspace(0, 1, residuals.shape[0])"
   ]
  },
  {
   "cell_type": "code",
   "execution_count": 19,
   "metadata": {},
   "outputs": [
    {
     "data": {
      "image/png": "[encoded data removed]",
      "text/plain": [
       "<Figure size 432x288 with 1 Axes>"
      ]
     },
     "metadata": {
      "needs_background": "light"
     },
     "output_type": "display_data"
    }
   ],
   "source": [
    "plt.scatter(x, residuals)\n",
    "plt.show()"
   ]
  },
  {
   "cell_type": "code",
   "execution_count": 27,
   "metadata": {},
   "outputs": [
    {
     "data": {
      "image/png": "[encoded data removed]",
      "text/plain": [
       "<Figure size 576x360 with 1 Axes>"
      ]
     },
     "metadata": {
      "needs_background": "light"
     },
     "output_type": "display_data"
    }
   ],
   "source": [
    "plt.figure(figsize=(8, 5))\n",
    "plt.grid(zorder=1)\n",
    "plt.hist(residuals, bins=20, zorder=2)\n",
    "plt.show()"
   ]
  },
  {
   "cell_type": "markdown",
   "metadata": {},
   "source": [
    "### Assessment"
   ]
  }
 ],
 "metadata": {
  "kernelspec": {
   "display_name": "Python 3",
   "language": "python",
   "name": "python3"
  },
  "language_info": {
   "codemirror_mode": {
    "name": "ipython",
    "version": 3
   },
   "file_extension": ".py",
   "mimetype": "text/x-python",
   "name": "python",
   "nbconvert_exporter": "python",
   "pygments_lexer": "ipython3",
   "version": "3.7.3"
  }
 },
 "nbformat": 4,
 "nbformat_minor": 2
}
